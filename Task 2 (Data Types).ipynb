{
 "cells": [
  {
   "cell_type": "markdown",
   "metadata": {},
   "source": [
    "Question No.- 1) Introduction to sets"
   ]
  },
  {
   "cell_type": "code",
   "execution_count": null,
   "metadata": {},
   "outputs": [],
   "source": [
    "from __future__ import division\n",
    "\n",
    "def average(array):\n",
    "    # your code goes here\n",
    "\n",
    "if __name__ == '__main__':\n",
    "    n = int(raw_input())\n",
    "    arr = map(int, raw_input().split())\n",
    "    result = average(arr)\n",
    "    print result"
   ]
  },
  {
   "cell_type": "markdown",
   "metadata": {},
   "source": [
    "Question No.- 2) No idea"
   ]
  },
  {
   "cell_type": "code",
   "execution_count": null,
   "metadata": {},
   "outputs": [],
   "source": [
    "m,n=tuple(map(int,raw_input().split()))\n",
    "arr=list(map(int,raw_input().split()))\n",
    "A=set(map(int,raw_input().split()))\n",
    "B=set(map(int,raw_input().split()))\n",
    "happy=len([x for x in arr if x in A])\n",
    "sad=len([i for i in arr if i in B])\n",
    "print happy-sad"
   ]
  },
  {
   "cell_type": "markdown",
   "metadata": {},
   "source": [
    "Question No.- 3) Set.add()"
   ]
  },
  {
   "cell_type": "code",
   "execution_count": null,
   "metadata": {},
   "outputs": [],
   "source": [
    "n = int(raw_input())\n",
    "a = []\n",
    "for i in range(n):\n",
    "    a.append(raw_input())\n",
    "s = set(a)\n",
    "print len(s)"
   ]
  },
  {
   "cell_type": "markdown",
   "metadata": {},
   "source": [
    "Question No.- 4) Symmetric Difference\n",
    "\n"
   ]
  },
  {
   "cell_type": "code",
   "execution_count": null,
   "metadata": {},
   "outputs": [],
   "source": [
    "M = int(raw_input())\n",
    "M_set = set(map(int, raw_input().split()))\n",
    "N = int(raw_input())\n",
    "N_set = set(map(int, raw_input().split()))\n",
    "Symmetric_difference_set = M_set.symmetric_difference(N_set)\n",
    "Symmetric_difference = []\n",
    "for i in Symmetric_difference_set:\n",
    "    Symmetric_difference.append(i)\n",
    "Symmetric_difference.sort()\n",
    "for i in Symmetric_difference:\n",
    "    print i"
   ]
  },
  {
   "cell_type": "markdown",
   "metadata": {},
   "source": [
    "Question No.- 5) Set .discard(), .remove() & .pop()\n",
    "\n"
   ]
  },
  {
   "cell_type": "code",
   "execution_count": null,
   "metadata": {},
   "outputs": [],
   "source": [
    "n = int(input())\n",
    "s = set(map(int,input().split()))\n",
    "num = int(input())\n",
    "for i in range(num):\n",
    "    ip = input().split()\n",
    "    if ip[0]==\"remove\":\n",
    "        s.remove(int(ip[1]))\n",
    "    elif ip[0]==\"discard\":\n",
    "        s.discard(int(ip[1]))\n",
    "    else :\n",
    "        s.pop()\n",
    "print(sum(list(s)))"
   ]
  },
  {
   "cell_type": "markdown",
   "metadata": {},
   "source": [
    "Question No- 6) Set .union() Operation\n",
    "\n"
   ]
  },
  {
   "cell_type": "code",
   "execution_count": null,
   "metadata": {},
   "outputs": [],
   "source": [
    "# Enter your code here. Read input from STDIN. Print output to STDOUT\n",
    "N1 = int(input())\n",
    "storage1 = set(input().split());\n",
    "\n",
    "N2 = int(input())\n",
    "storage2 = set(input().split());\n",
    "\n",
    "storage3 = storage1.union(storage2)http://localhost:8888/notebooks/Task%202%20(Data%20Types).ipynb#\n",
    "\n",
    "print(len(storage3))"
   ]
  },
  {
   "cell_type": "markdown",
   "metadata": {},
   "source": [
    "Question No.- 7) Set .intersection() Operation\n",
    "\n"
   ]
  },
  {
   "cell_type": "code",
   "execution_count": null,
   "metadata": {},
   "outputs": [],
   "source": [
    "input()\n",
    "L = raw_input().split()\n",
    "\n",
    "input()\n",
    "M = raw_input().split()\n",
    "\n",
    "L = set(L)\n",
    "M = set(M)\n",
    "\n",
    "N = L.intersection(M)\n",
    "\n",
    "print len(N)"
   ]
  },
  {
   "cell_type": "markdown",
   "metadata": {},
   "source": [
    "Question No.- 8)Set .difference() Operation\n",
    "\n",
    "\n"
   ]
  },
  {
   "cell_type": "code",
   "execution_count": null,
   "metadata": {},
   "outputs": [],
   "source": [
    "N1 = int(input())\n",
    "storage1 = set(input().split())\n",
    "\n",
    "N2 = int(input())\n",
    "storage2 = set(input().split())\n",
    "\n",
    "storage3 = storage1.difference(storage2)\n",
    "\n",
    "print(len(storage3))"
   ]
  },
  {
   "cell_type": "markdown",
   "metadata": {},
   "source": [
    "Question No.- 9)Set .symmetric_difference() Operation\n",
    "\n"
   ]
  },
  {
   "cell_type": "code",
   "execution_count": null,
   "metadata": {},
   "outputs": [],
   "source": [
    "N1 = int(input())\n",
    "storage1 = set(input().split())\n",
    "\n",
    "N2 = int(input())\n",
    "storage2 = set(input().split())\n",
    "\n",
    "storage3 = storage1.symmetric_difference(storage2)\n",
    "\n",
    "print(len(storage3))"
   ]
  },
  {
   "cell_type": "markdown",
   "metadata": {},
   "source": [
    "Question No.- 10) Set Mutations\n",
    "\n",
    "\n",
    "\n"
   ]
  },
  {
   "cell_type": "code",
   "execution_count": null,
   "metadata": {},
   "outputs": [],
   "source": [
    "\n",
    "len_set = int(input())\n",
    "\n",
    "storage = set(map(int, input().split()))\n",
    "\n",
    "op_len = int(input())\n",
    "\n",
    "for i in range(op_len):\n",
    "    operation = input().split()\n",
    "    if operation[0] == 'intersection_update':\n",
    "        temp_storage = set(map(int, input().split()))\n",
    "        storage.intersection_update(temp_storage)\n",
    "    elif operation[0] == 'update':\n",
    "        temp_storage = set(map(int, input().split()))\n",
    "        storage.update(temp_storage)\n",
    "    elif operation[0] == 'symmetric_difference_update':\n",
    "        temp_storage = set(map(int, input().split()))\n",
    "        storage.symmetric_difference_update(temp_storage)\n",
    "    elif operation[0] == 'difference_update':\n",
    "        temp_storage = set(map(int, input().split()))\n",
    "        storage.difference_update(temp_storage)\n",
    "    else :\n",
    "        assert False\n",
    "\n",
    "print(sum(storage))"
   ]
  },
  {
   "cell_type": "markdown",
   "metadata": {},
   "source": [
    "Question No.- 11)The Captain's Room\n",
    "\n"
   ]
  },
  {
   "cell_type": "code",
   "execution_count": null,
   "metadata": {},
   "outputs": [],
   "source": [
    "k = int(input())\n",
    "room_number_list = list(map(int,input().split()))\n",
    "room_number_set = set(room_number_list)\n",
    "room_number_list_sum = sum(room_number_list)\n",
    "room_number_set_sum = sum(room_number_set) * k\n",
    "diff = room_number_set_sum - room_number_list_sum\n",
    "for i in room_number_set:\n",
    "    if diff == ((k-1)*i):\n",
    "        print(i)\n",
    "        break"
   ]
  },
  {
   "cell_type": "markdown",
   "metadata": {},
   "source": [
    "Question No.- 12)Check Subset\n",
    "\n"
   ]
  },
  {
   "cell_type": "code",
   "execution_count": null,
   "metadata": {},
   "outputs": [],
   "source": [
    "T = int(input())\n",
    "\n",
    "for _ in range(T):\n",
    "    a = input()\n",
    "    A = set(input().split())\n",
    "    b = int(input())\n",
    "    B = set(input().split())\n",
    "    print(A.issubset(B))"
   ]
  },
  {
   "cell_type": "markdown",
   "metadata": {},
   "source": [
    "Question No.- 13)Check Strict Superset\n",
    "\n"
   ]
  },
  {
   "cell_type": "code",
   "execution_count": null,
   "metadata": {},
   "outputs": [],
   "source": [
    "storage = set(input().split())\n",
    "N = int(input())\n",
    "output = True\n",
    "\n",
    "for i in range(N):\n",
    "    storage2 = set(input().split())\n",
    "    if not storage2.issubset(storage):\n",
    "        output = False\n",
    "    if len(storage2) >= len(storage):\n",
    "        output = False\n",
    "\n",
    "print(output)"
   ]
  }
 ],
 "metadata": {
  "kernelspec": {
   "display_name": "Python 3",
   "language": "python",
   "name": "python3"
  },
  "language_info": {
   "codemirror_mode": {
    "name": "ipython",
    "version": 3
   },
   "file_extension": ".py",
   "mimetype": "text/x-python",
   "name": "python",
   "nbconvert_exporter": "python",
   "pygments_lexer": "ipython3",
   "version": "3.8.5"
  }
 },
 "nbformat": 4,
 "nbformat_minor": 4
}
