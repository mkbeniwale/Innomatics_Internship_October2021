{
 "cells": [
  {
   "cell_type": "code",
   "execution_count": null,
   "metadata": {},
   "outputs": [],
   "source": [
    "import numpy as np\n"
   ]
  },
  {
   "cell_type": "code",
   "execution_count": null,
   "metadata": {},
   "outputs": [],
   "source": [
    "# Question 1\n",
    "import numpy as np\n",
    "\n",
    "def arrays(arr):\n",
    "    a=np.array(arr, float)\n",
    "    return a[::-1]\n",
    "arr = input().strip().split(' ')\n",
    "result = arrays(arr)\n",
    "print(result)\n",
    "In [ ]:\n",
    "# Question 2"
   ]
  },
  {
   "cell_type": "code",
   "execution_count": null,
   "metadata": {},
   "outputs": [],
   "source": [
    "# Question 2\n",
    "import numpy as np\n",
    "a= (input().split())\n",
    "b=np.array(a, dtype=int)\n",
    "c=b.reshape(3,3)\n",
    "print(c)"
   ]
  },
  {
   "cell_type": "code",
   "execution_count": null,
   "metadata": {},
   "outputs": [],
   "source": [
    "# Question 3\n",
    "import numpy as np\n",
    "nm=input().split()\n",
    "n,m=int(nm[0]), int(nm[1])\n",
    "array=[input().split() for i in range(n)]\n",
    "result=np.array(array, dtype=int)\n",
    "print(np.transpose(result))\n",
    "print(result.flatten())"
   ]
  },
  {
   "cell_type": "code",
   "execution_count": null,
   "metadata": {},
   "outputs": [],
   "source": [
    "# Question 4\n",
    "import numpy as np\n",
    "abc=input().split()\n",
    "a,b,c=int(abc[0]),int(abc[1]),int(abc[2])\n",
    "arrays=[input().split() for i in range(a+b)]\n",
    "print(np.array(arrays,dtype=int))"
   ]
  },
  {
   "cell_type": "code",
   "execution_count": null,
   "metadata": {},
   "outputs": [],
   "source": [
    "# Question 5\n",
    "import numpy as np\n",
    "a=tuple(map(int, input().split()))\n",
    "print(np.zeros(a,dtype =int))\n",
    "print(np.ones(a,dtype =int))"
   ]
  },
  {
   "cell_type": "code",
   "execution_count": null,
   "metadata": {},
   "outputs": [],
   "source": [
    "# Question 6\n",
    "import numpy as np\n",
    "n,m=map(int,input().split())\n",
    "result=str(np.eye(n,m))\n",
    "print(result.replace(\"0\", \" 0\").replace(\"1\", \" 1\"))"
   ]
  },
  {
   "cell_type": "code",
   "execution_count": null,
   "metadata": {},
   "outputs": [],
   "source": [
    "# Question 7\n",
    "import numpy as np\n",
    "N,M=map(int,input().split())\n",
    "A=np.array([input().split() for i in range(N)],dtype=int)\n",
    "B=np.array([input().split() for i in range(N)],dtype=int)\n",
    "print(A+B)\n",
    "print(A-B)\n",
    "print(A*B)\n",
    "print(A//B)\n",
    "print(A%B)\n",
    "print(A**B)"
   ]
  },
  {
   "cell_type": "code",
   "execution_count": null,
   "metadata": {},
   "outputs": [],
   "source": [
    "# Question 8\n",
    "import numpy as np\n",
    "np.set_printoptions(sign=\" \")\n",
    "a=np.array(input().split(), dtype=float)\n",
    "f=np.floor(a)\n",
    "c=np.ceil(a)\n",
    "r=np.rint(a)\n",
    "print(f)\n",
    "print(c)\n",
    "print(r)"
   ]
  },
  {
   "cell_type": "code",
   "execution_count": null,
   "metadata": {},
   "outputs": [],
   "source": [
    "# Question 9\n",
    "import numpy as np\n",
    "n,m=map(int,input().split())\n",
    "l=[]\n",
    "for i in range(n):\n",
    "    l1=list(map(int,input().split()))\n",
    "    l.append(l1)\n",
    "array=np.array(l)\n",
    "s=np.sum(array,axis=0)\n",
    "p=np.prod(s,axis=0)\n",
    "print(p)"
   ]
  },
  {
   "cell_type": "code",
   "execution_count": null,
   "metadata": {},
   "outputs": [],
   "source": [
    "# Question 10\n",
    "import numpy as np\n",
    "n,m=list(map(int, input().split()))\n",
    "array=np.array([input().split() for i in range(n)],dtype=int)\n",
    "min=np.min(array,axis=1)\n",
    "max=np.max(min)\n",
    "print(max)"
   ]
  },
  {
   "cell_type": "code",
   "execution_count": null,
   "metadata": {},
   "outputs": [],
   "source": [
    "# Question 11\n",
    "import numpy as np\n",
    "n,m=list(map(int,input().split()))\n",
    "array=np.array([input().split() for i in range(n)],dtype=int)\n",
    "print(np.mean(array,axis=1))\n",
    "print(np.var(array,axis=0))\n",
    "std=np.std(array,axis=None)\n",
    "print(std.round(11))"
   ]
  },
  {
   "cell_type": "code",
   "execution_count": null,
   "metadata": {},
   "outputs": [],
   "source": [
    "# Question 12\n",
    "import numpy as np\n",
    "N=int(input())\n",
    "A=np.array([input().split() for i in range(N)],dtype=int)\n",
    "B=np.array([input().split() for i in range(N)],dtype=int)\n",
    "print(A.dot(B))\n"
   ]
  },
  {
   "cell_type": "code",
   "execution_count": null,
   "metadata": {},
   "outputs": [],
   "source": [
    "# Question 13\n",
    "import numpy as np\n",
    "A=np.array(input().split(),dtype=int)\n",
    "B=np.array(input().split(),dtype=int)\n",
    "print(np.inner(A,B))\n",
    "print(np.outer(A,B))"
   ]
  },
  {
   "cell_type": "code",
   "execution_count": null,
   "metadata": {},
   "outputs": [],
   "source": [
    "# Question 14\n",
    "import numpy as np\n",
    "array=np.array(input().split(),dtype=float)\n",
    "print(np.polyval(array,int(input())))"
   ]
  },
  {
   "cell_type": "code",
   "execution_count": null,
   "metadata": {},
   "outputs": [],
   "source": [
    "# Question 15\n",
    "import numpy as np\n",
    "N=int(input())\n",
    "A=np.array([input().split() for i in range(N)],dtype=float)\n",
    "print(np.linalg.det(A).round(2))"
   ]
  }
 ],
 "metadata": {
  "kernelspec": {
   "display_name": "Python 3",
   "language": "python",
   "name": "python3"
  },
  "language_info": {
   "codemirror_mode": {
    "name": "ipython",
    "version": 3
   },
   "file_extension": ".py",
   "mimetype": "text/x-python",
   "name": "python",
   "nbconvert_exporter": "python",
   "pygments_lexer": "ipython3",
   "version": "3.8.5"
  }
 },
 "nbformat": 4,
 "nbformat_minor": 4
}
