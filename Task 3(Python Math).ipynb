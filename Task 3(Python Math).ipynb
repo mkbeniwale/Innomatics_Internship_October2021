{
 "cells": [
  {
   "cell_type": "code",
   "execution_count": null,
   "metadata": {},
   "outputs": [],
   "source": [
    "#Question No.1\n",
    "import cmath;\n",
    "\n",
    "num = complex(input())\n",
    "z = complex(num)\n",
    "\n",
    "print(cmath.polar(z)[0])\n",
    "print(cmath.polar(z)[1])"
   ]
  },
  {
   "cell_type": "code",
   "execution_count": null,
   "metadata": {},
   "outputs": [],
   "source": [
    "#Question No.2\n",
    "import math\n",
    "a = float(raw_input())\n",
    "b = float(raw_input())\n",
    "degree_sign = u'\\N{DEGREE SIGN}'\n",
    "pi = math.atan(1) * 4\n",
    "ang = math.atan(a / b)\n",
    "print str(int(round(math.degrees(ang))))+ degree_sign\n"
   ]
  },
  {
   "cell_type": "code",
   "execution_count": null,
   "metadata": {},
   "outputs": [],
   "source": [
    "#Question No. 3\n",
    "for i in range(1, int(input()) + 1):\n",
    "    print((10 ** i - 1) ** 2 // 81)\n"
   ]
  },
  {
   "cell_type": "code",
   "execution_count": null,
   "metadata": {},
   "outputs": [],
   "source": [
    "#Quetion No. 4\n",
    "d = divmod(int(input()), int(input()))\n",
    "print(*d,d, sep='\\n')"
   ]
  },
  {
   "cell_type": "code",
   "execution_count": null,
   "metadata": {},
   "outputs": [],
   "source": [
    "#Question No. 5\n",
    "a=int(input())\n",
    "b=int(input())\n",
    "c=int(input())\n",
    "print(pow(a,b))\n",
    "print(pow(a,b,c))"
   ]
  },
  {
   "cell_type": "code",
   "execution_count": null,
   "metadata": {},
   "outputs": [],
   "source": [
    "#Question No. 6\n",
    "a=int(input())\n",
    "b=int(input())\n",
    "c=int(input())\n",
    "d=int(input())\n",
    "print(pow(a,b)+pow(c,d))"
   ]
  },
  {
   "cell_type": "code",
   "execution_count": null,
   "metadata": {},
   "outputs": [],
   "source": [
    "#Question No. 7\n",
    "for i in range(1,int(input())): \n",
    "    print(((10**i)//9)*i)"
   ]
  }
 ],
 "metadata": {
  "kernelspec": {
   "display_name": "Python 3",
   "language": "python",
   "name": "python3"
  },
  "language_info": {
   "codemirror_mode": {
    "name": "ipython",
    "version": 3
   },
   "file_extension": ".py",
   "mimetype": "text/x-python",
   "name": "python",
   "nbconvert_exporter": "python",
   "pygments_lexer": "ipython3",
   "version": "3.8.5"
  }
 },
 "nbformat": 4,
 "nbformat_minor": 4
}
