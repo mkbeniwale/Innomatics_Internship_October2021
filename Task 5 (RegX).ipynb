{
 "cells": [
  {
   "cell_type": "code",
   "execution_count": null,
   "metadata": {},
   "outputs": [],
   "source": [
    "#Question 1\n",
    "import re\n",
    "n=int(input())\n",
    "pattern=r'^[+-]?[0-9]*\\.[0-9]+$'\n",
    "for i in range(n):\n",
    "    s=input()\n",
    "    print(bool(re.match(pattern,s)))"
   ]
  },
  {
   "cell_type": "code",
   "execution_count": null,
   "metadata": {},
   "outputs": [],
   "source": [
    "#Question 2\n",
    "regex_pattern = r\"[,.]+\"\t# Do not delete 'r'.\n",
    "\n",
    "import re\n",
    "print(\"\\n\".join(re.split(regex_pattern, input())))"
   ]
  },
  {
   "cell_type": "code",
   "execution_count": null,
   "metadata": {},
   "outputs": [],
   "source": [
    "#Question 3\n",
    "import re\n",
    "pattern=r'([a-z A-Z 0-9])\\1'\n",
    "s=input()\n",
    "m=re.search(pattern,s)\n",
    "if m:\n",
    "    print(m.groups()[0])\n",
    "else:\n",
    "    print(-1)"
   ]
  },
  {
   "cell_type": "code",
   "execution_count": null,
   "metadata": {},
   "outputs": [],
   "source": [
    "#Question 4\n",
    "import re\n",
    "s=input()\n",
    "vow='aeiou'\n",
    "con='bcdfghjklmnpqrstvwxyz'\n",
    "res=re.findall(r\"(?<=[%s])([%s]{2,})[%s]\"%(con,vow,con),s,flags=re.IGNORECASE)\n",
    "if not res:\n",
    "    print(-1)\n",
    "else:\n",
    "    for i in res:\n",
    "        print(i)"
   ]
  },
  {
   "cell_type": "code",
   "execution_count": null,
   "metadata": {},
   "outputs": [],
   "source": [
    "#Question 5\n",
    "import re\n",
    "s=input()\n",
    "k=input()\n",
    "pattern=re.compile(k)\n",
    "m=pattern.search(s)\n",
    "if not m:\n",
    "    print(\"(-1, -1)\")\n",
    "else:\n",
    "    while m:\n",
    "        print(\"({0}, {1})\".format(m.start(),m.end()-1))\n",
    "        m=pattern.search(s,m.start()+1)"
   ]
  },
  {
   "cell_type": "code",
   "execution_count": null,
   "metadata": {},
   "outputs": [],
   "source": [
    "#Question 6\n",
    "import re\n",
    "pattern=r\"(?<= )(&&|\\|\\|)(?= )\"\n",
    "replacement=lambda x:\"and\" if x.group()==\"&&\" else \"or\"\n",
    "for i in range(int(input())):\n",
    "    s=input()\n",
    "    print(re.sub(pattern, replacement,s))"
   ]
  },
  {
   "cell_type": "code",
   "execution_count": null,
   "metadata": {},
   "outputs": [],
   "source": [
    "#Question 7\n",
    "th='M{0,3}'\n",
    "hun=\"(C[MD]|D?C{0,3})\"\n",
    "ten=\"(X[CL]|L?X{0,3})\"\n",
    "d=\"(I[VX]|V?I{0,3})\"\n",
    "regex_pattern = r\"%s%s%s%s$\" % (th,hun,ten,d)\t# Do not delete 'r'.\n",
    "\n",
    "import re\n",
    "print(str(bool(re.match(regex_pattern, input()))))"
   ]
  },
  {
   "cell_type": "code",
   "execution_count": null,
   "metadata": {},
   "outputs": [],
   "source": [
    "# Question 8\n",
    "import re\n",
    "for _ in range(int(input())):\n",
    "    if re.match(r\"[789]\\d{9}$\", input()):\n",
    "        print(\"YES\")\n",
    "    else:\n",
    "        print(\"NO\")"
   ]
  },
  {
   "cell_type": "code",
   "execution_count": null,
   "metadata": {},
   "outputs": [],
   "source": [
    "# Question 9\n",
    "import re\n",
    "n=int(input())\n",
    "for _ in range(n):\n",
    "    x,y=input().split(' ')\n",
    "    m=re.match(r\"<[A-Za-z](\\w|-|\\.| )+@[A-Za-z]+\\.[A-Za-z]{1,3}>\",y)\n",
    "    if m:\n",
    "        print(x,y)"
   ]
  },
  {
   "cell_type": "code",
   "execution_count": null,
   "metadata": {},
   "outputs": [],
   "source": [
    "#Question 10\n",
    "import re\n",
    "N=int(input())\n",
    "for i in range(0,N):\n",
    "    s=input()\n",
    "    x= s.split()\n",
    "    if len(x)>1 and \"{\" not in x:\n",
    "        x=re.findall(r\"#[a-fA-F0-9]{3,6}\",s)\n",
    "        [print(i) for i in x]"
   ]
  },
  {
   "cell_type": "code",
   "execution_count": null,
   "metadata": {},
   "outputs": [],
   "source": [
    "#Question 11\n",
    "from html.parser import HTMLParser\n",
    "class MyHTMLParser(HTMLParser):\n",
    "    def handle_starttag(self,tag,attrs):\n",
    "        print(\"Start :\",tag)\n",
    "        for i in attrs:\n",
    "            print(\"->\",i[0],\">\",i[1])\n",
    "    def handle_endtag(self, tag):\n",
    "        print(\"End   :\",tag)\n",
    "    def handle_startendtag(self,tag,attrs):\n",
    "        print(\"Empty :\",tag)\n",
    "        for i in attrs:\n",
    "            print(\"->\",i[0],\">\",i[1])\n",
    "MyParser=MyHTMLParser()\n",
    "MyParser.feed(\"\".join(input().strip() for _ in range(int(input()))))"
   ]
  },
  {
   "cell_type": "code",
   "execution_count": null,
   "metadata": {},
   "outputs": [],
   "source": [
    "# Question 12\n",
    "from html.parser import HTMLParser\n",
    "\n",
    "class MyHTMLParser(HTMLParser):\n",
    "    def handle_comment(self,comment):\n",
    "        if '\\n' in comment:\n",
    "            print(\">>> Multi-line Comment\")\n",
    "        else:\n",
    "            print(\">>> Single-line Comment\")\n",
    "        print(comment)\n",
    "    def handle_data(self, data):\n",
    "        if data=='\\n': return\n",
    "        print(\">>> Data\")\n",
    "        print(data)"
   ]
  },
  {
   "cell_type": "code",
   "execution_count": null,
   "metadata": {},
   "outputs": [],
   "source": [
    "# Question 13\n",
    "from html.parser import HTMLParser\n",
    "class MyHTMLParser(HTMLParser):\n",
    "    def handle_starttag(self, tag, attrs):\n",
    "        print(tag)\n",
    "        [print(\"-> {} > {}\".format(*i)) for i in attrs]\n",
    "html= '\\n'.join([input() for _ in range(int(input()))])\n",
    "parser=MyHTMLParser()\n",
    "parser.feed(html)\n",
    "parser.close()"
   ]
  },
  {
   "cell_type": "code",
   "execution_count": null,
   "metadata": {},
   "outputs": [],
   "source": [
    "# Question 14\n",
    "import re\n",
    "for _ in range(int(input())):\n",
    "    x=''.join(sorted(input()))\n",
    "    try:\n",
    "        assert re.search(r\"[A-z]{2}\",x)\n",
    "        assert re.search(r\"\\d\\d\\d\",x)\n",
    "        assert not re.search(r\"[^a-zA-Z0-9]\",x)\n",
    "        assert not re.search(r\"(.)\\1\",x)\n",
    "        assert len(x)==10\n",
    "    except:\n",
    "        print(\"Invalid\")\n",
    "    else:\n",
    "        print(\"Valid\")"
   ]
  },
  {
   "cell_type": "code",
   "execution_count": null,
   "metadata": {},
   "outputs": [],
   "source": [
    "# Question 15\n",
    "import re\n",
    "x=re.compile(\n",
    "    r\"^\"\n",
    "    r\"(?!.*(\\d)(-?\\1){3})\"\n",
    "    r\"[456]\"\n",
    "    r\"\\d{3}\"\n",
    "    r\"(?:-?\\d{4}){3}\"\n",
    "    r\"$\")\n",
    "for _ in range(int(input().strip())):\n",
    "    print(\"Valid\" if x.search(input().strip()) else \"Invalid\")"
   ]
  },
  {
   "cell_type": "code",
   "execution_count": null,
   "metadata": {},
   "outputs": [],
   "source": [
    "# Question 16\n",
    "regex_integer_in_range = r\"^[1-9][\\d]{5}$\"\t# Do not delete 'r'.\n",
    "regex_alternating_repetitive_digit_pair = r\"(\\d)(?=\\d\\1)\"\t# Do not delete 'r'."
   ]
  },
  {
   "cell_type": "code",
   "execution_count": null,
   "metadata": {},
   "outputs": [],
   "source": [
    "# Question 17\n",
    "import re\n",
    "n,m=map(int,(input().split()))\n",
    "l=list()\n",
    "for i in range(n):\n",
    "    l.append(input())\n",
    "l=list(zip(*l))\n",
    "s=''\n",
    "for i in l:\n",
    "    s=s+''.join(i)\n",
    "s=''\n",
    "for i in l:\n",
    "    s=s+''.join(i)\n",
    "s=re.sub(r\"\\b[^a-zA-Z0-9]+\\b\",r\" \",s)\n",
    "print(s)S"
   ]
  }
 ],
 "metadata": {
  "kernelspec": {
   "display_name": "Python 3",
   "language": "python",
   "name": "python3"
  },
  "language_info": {
   "codemirror_mode": {
    "name": "ipython",
    "version": 3
   },
   "file_extension": ".py",
   "mimetype": "text/x-python",
   "name": "python",
   "nbconvert_exporter": "python",
   "pygments_lexer": "ipython3",
   "version": "3.8.5"
  }
 },
 "nbformat": 4,
 "nbformat_minor": 4
}
