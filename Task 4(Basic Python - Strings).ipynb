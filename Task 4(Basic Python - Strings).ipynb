{
 "cells": [
  {
   "cell_type": "code",
   "execution_count": null,
   "metadata": {},
   "outputs": [],
   "source": [
    "#Question No. 1\n",
    "def swap_case(sentence):\n",
    "    updated_s = \"\"\n",
    "    for c in sentence:\n",
    "        if c.isupper():\n",
    "            updated_s += c.lower()\n",
    "        elif c.islower():\n",
    "            updated_s += c.upper()\n",
    "        else:\n",
    "            updated_s += c\n",
    "    return updated_s\n",
    "if __name__ == '__main__':"
   ]
  },
  {
   "cell_type": "code",
   "execution_count": null,
   "metadata": {},
   "outputs": [],
   "source": [
    "#Question No. 2\n",
    "def split_and_join(line):\n",
    "    # write your code here\n",
    "    return \"-\".join(line.split())\n",
    "\n",
    "if __name__ == '__main__':\n",
    "    line = raw_input()\n",
    "    result = split_and_join(line)\n",
    "    print result"
   ]
  },
  {
   "cell_type": "code",
   "execution_count": null,
   "metadata": {},
   "outputs": [],
   "source": [
    "#Question No.3\n",
    "def print_full_name(first, last):\n",
    "    # Write your code here\n",
    "    print(\"Hello {} {}! You just delved into python.\".format(first,last))\n",
    "\n",
    "if __name__ == '__main__':\n",
    "    first_name = raw_input()\n",
    "    last_name = raw_input()\n",
    "    print_full_name(first_name, last_name)"
   ]
  },
  {
   "cell_type": "code",
   "execution_count": null,
   "metadata": {},
   "outputs": [],
   "source": [
    "#Question No.4\n",
    "def mutate_string(string, position, character):\n",
    "    chars = list(string)\n",
    "    chars[position] = character\n",
    "    return \"\".join(chars)\n",
    "\n",
    "if __name__ == '__main__':\n",
    "    s = raw_input()\n",
    "    i, c = raw_input().split()\n",
    "    s_new = mutate_string(s, int(i), c)\n",
    "    print s_new"
   ]
  },
  {
   "cell_type": "code",
   "execution_count": null,
   "metadata": {},
   "outputs": [],
   "source": [
    "#Question No. 5\n",
    "def count_substring(string, sub_string):\n",
    "    count_sub_string = 0\n",
    "    for i in range(len(string) - len(sub_string) + 1):\n",
    "        if string[i:i + len(sub_string)] == sub_string:\n",
    "            count_sub_string += 1\n",
    "    return count_sub_string\n",
    "\n",
    " \n",
    "if __name__ == '__main__':\n",
    "    string = raw_input().strip()\n",
    "    sub_string = raw_input().strip()\n",
    "    \n",
    "    count = count_substring(string, sub_string)\n",
    "    print count"
   ]
  },
  {
   "cell_type": "code",
   "execution_count": null,
   "metadata": {},
   "outputs": [],
   "source": [
    "#Question No. 6\n",
    "s=raw_input()\n",
    "a=False\n",
    "b=False\n",
    "d=False\n",
    "l=False\n",
    "u=False\n",
    "for i in range(len(s)):\n",
    "    if s[i].isalnum():\n",
    "        a=True\n",
    "    if s[i].isalpha():\n",
    "        b=True\n",
    "    if s[i].isdigit():\n",
    "        d=True\n",
    "    if s[i].islower():\n",
    "        l=True\n",
    "    if s[i].isupper():\n",
    "        u=True\n",
    "print a\n",
    "print b\n",
    "print d\n",
    "print l\n",
    "print u\n"
   ]
  },
  {
   "cell_type": "code",
   "execution_count": null,
   "metadata": {},
   "outputs": [],
   "source": [
    "#Question No.7\n",
    "# Enter your code here. Read input from STDIN. Print output to STDOUT\n",
    "thickness = int(input())\n",
    "c = 'H'\n",
    "\n",
    "for i in range(thickness):\n",
    "    print((c * i).rjust(thickness - 1) + c + (c * i).ljust(thickness - 1))\n",
    "for i in range(thickness + 1):\n",
    "    print((c * thickness).center(thickness * 2) + (c * thickness).center(thickness * 6))\n",
    "for i in range((thickness + 1) // 2):\n",
    "    print((c * thickness * 5).center(thickness * 6))\n",
    "for i in range(thickness + 1):\n",
    "    print((c * thickness).center(thickness * 2) + (c * thickness).center(thickness * 6))\n",
    "for i in range(thickness):\n",
    "    print(((c * (thickness - i - 1)).rjust(thickness) + c + (c * (thickness - i - 1)).ljust(thickness)).rjust(\n",
    "        thickness * 6))\n"
   ]
  },
  {
   "cell_type": "code",
   "execution_count": null,
   "metadata": {},
   "outputs": [],
   "source": [
    "#Question No. 8\n",
    "import textwrap\n",
    "\n",
    "def wrap(string, max_width):\n",
    "    return textwrap.fill(string,max_width)\n",
    "\n",
    "if __name__ == '__main__':\n",
    "    string, max_width = raw_input(), int(raw_input())\n",
    "    result = wrap(string, max_width)\n",
    "    print result"
   ]
  },
  {
   "cell_type": "code",
   "execution_count": null,
   "metadata": {},
   "outputs": [],
   "source": [
    "#Question NO. 9\n",
    "# Enter your code here. Read input from STDIN. Print output to STDOUT\n",
    "N, M = map(int,raw_input().split()) # More than 6 lines of code will result in 0 score. Blank lines are not counted.\n",
    "for i in xrange(1,N,2): \n",
    "    print \"-\"*((M-i*3)/2) + \".|.\"*i + \"-\"*((M-i*3)/2)\n",
    "print \"-\"*((M-7)/2) + \"WELCOME\" + \"-\"*((M-7)/2)\n",
    "for i in xrange(N-2,-1,-2): \n",
    "    print \"-\"*((M-i*3)/2) + \".|.\"*i + \"-\"*((M-i*3)/2)\n"
   ]
  },
  {
   "cell_type": "code",
   "execution_count": null,
   "metadata": {},
   "outputs": [],
   "source": [
    "#Question No. 10\n",
    "def print_formatted(number):\n",
    "    # your code goes here\n",
    "    a=len(\"{0:b}\".format(number))\n",
    "    for i in range(1,number+1):\n",
    "        print(\"{0:{w}d} {0:{w}o} {0:{w}X} {0:{w}b}\".format(i,w=a))\n",
    "\n",
    "if __name__ == '__main__':\n",
    "    n = int(raw_input())\n",
    "    print_formatted(n)"
   ]
  },
  {
   "cell_type": "code",
   "execution_count": null,
   "metadata": {},
   "outputs": [],
   "source": [
    "#Question No.11\n",
    "def print_rangoli(size):\n",
    "    # your code goes here\n",
    "    import string\n",
    "    alpha = string.ascii_lowercase\n",
    "    L=[]\n",
    "    for i in range(n):\n",
    "        s=\"-\".join(alpha[i:n])\n",
    "        L.append((s[::-1]+s[1:]).center(4*n-3, \"-\"))\n",
    "    print('\\n'.join(L[:0:-1]+L))\n",
    "\n",
    "if __name__ == '__main__':\n",
    "    n = int(raw_input())\n",
    "    print_rangoli(n)"
   ]
  },
  {
   "cell_type": "code",
   "execution_count": null,
   "metadata": {},
   "outputs": [],
   "source": [
    "#Question No.12\n",
    "#!/bin/python\n",
    "\n",
    "import math\n",
    "import os\n",
    "import random\n",
    "import re\n",
    "import sys\n",
    "\n",
    "# Complete the solve function below.\n",
    "def solve(s):\n",
    "    l=s.split(\" \")\n",
    "    s=''\n",
    "    for i in l:\n",
    "        s=s+i.capitalize()+' '\n",
    "    return s\n",
    "\n",
    "if __name__ == '__main__':\n",
    "    fptr = open(os.environ['OUTPUT_PATH'], 'w')\n",
    "\n",
    "    s = raw_input()\n",
    "\n",
    "    result = solve(s)\n",
    "\n",
    "    fptr.write(result + '\\n')\n",
    "\n",
    "    fptr.close()\n"
   ]
  },
  {
   "cell_type": "code",
   "execution_count": null,
   "metadata": {},
   "outputs": [],
   "source": [
    "#Question No. 13\n",
    "def minion_game(string):\n",
    "    # your code goes here\n",
    "    a=len(string)\n",
    "    con,vow=0,0\n",
    "    for i in range(a):\n",
    "        if string[i] in 'AIEOU':\n",
    "            vow=vow+(a-i)\n",
    "        else:\n",
    "            con=con+(a-i)\n",
    "    if con>vow:\n",
    "        print(\"Stuart {}\".format(con))\n",
    "    elif con==vow:\n",
    "        print(\"Draw\")\n",
    "    else:\n",
    "        print(\"Kevin {}\".format(vow))\n",
    "\n",
    "if __name__ == '__main__':\n",
    "    s = raw_input()\n",
    "    minion_game(s)"
   ]
  },
  {
   "cell_type": "code",
   "execution_count": null,
   "metadata": {},
   "outputs": [],
   "source": [
    "#Question No.14\n",
    "def merge_the_tools(string, k):\n",
    "    # your code goes here\n",
    "    c=0\n",
    "    s=''\n",
    "    for i in string:\n",
    "        if i not in s:\n",
    "            s=s+i\n",
    "        c+=1\n",
    "        if(c==k):\n",
    "            print(s)\n",
    "            c=0\n",
    "            s=''\n",
    "\n",
    "if __name__ == '__main__':\n",
    "    string, k = raw_input(), int(raw_input())\n",
    "    merge_the_tools(string, k)"
   ]
  }
 ],
 "metadata": {
  "kernelspec": {
   "display_name": "Python 3",
   "language": "python",
   "name": "python3"
  },
  "language_info": {
   "codemirror_mode": {
    "name": "ipython",
    "version": 3
   },
   "file_extension": ".py",
   "mimetype": "text/x-python",
   "name": "python",
   "nbconvert_exporter": "python",
   "pygments_lexer": "ipython3",
   "version": "3.8.5"
  }
 },
 "nbformat": 4,
 "nbformat_minor": 4
}
